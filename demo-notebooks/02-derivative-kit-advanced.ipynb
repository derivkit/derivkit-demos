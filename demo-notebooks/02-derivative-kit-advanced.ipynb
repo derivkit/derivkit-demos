{
 "cells": [
  {
   "cell_type": "markdown",
   "id": "0",
   "metadata": {},
   "source": [
    "# DerivKit: DerivativeKit — Advanced Analytic Function Demo\n",
    "\n",
    "### Summary\n",
    "This notebook compares the **Adaptive (polynomial-fit)** and **Finite-difference** backends on a more complex analytic function\n",
    "\n",
    "$f(x) = e^{-x^2}\\sin(3x) + 0.1\\,x^3$ evaluated at $x_0 = 0.3$.\n",
    "\n",
    "#### Analytic derivatives (for comparison)\n",
    "\n",
    "$f'(x) = e^{-x^2}(3\\cos(3x) - 2x\\sin(3x)) + 0.3\\,x^2$\n",
    "\n",
    "$f''(x) = e^{-x^2}(-9\\sin(3x) - 12x\\cos(3x) + 4x^2\\sin(3x)) + 0.6\\,x$\n",
    "\n",
    "### Usage\n",
    "If you prefer to run this as a standalone script, it lives in `demo-scripts/02-derivative-kit-advanced.py`.\n",
    "\n",
    "```bash\n",
    "$ python demo-scripts/02-derivative-kit-advanced.py\n",
    "```\n",
    "\n",
    "### What it does\n",
    "- Defines the function $f(x)$ and its analytic derivatives.\n",
    "- Constructs a ``:class:DerivativeKit`` with $x_0 = 0.3$.\n",
    "- Evaluates numerical derivatives using:\n",
    "  - Order 1: Adaptive with a user-supplied uniform grid `(grid=(\"offsets\", np.arange(-0.2, 0.25, 0.1)))`\n",
    "  - Order 2: Adaptive with the default Chebyshev grid and explicit `spacing=0.05`\n",
    "  - Order 3: Adaptive with `spacing=1/8` and `n_workers=2`\n",
    "-Prints the numerical results alongside analytic truth values.\n",
    "-Compares each with a 5-point central finite-difference baseline (or equivalent central stencil) for orders 1–3.\n",
    "\n",
    "\n",
    "### Notes\n",
    "- For oscillatory functions, keep the adaptive window local (moderate spacing) and use a modest number of points.\n",
    "- Adding a small ridge can stabilize higher-order fits.\n",
    "- When a grid is provided (as in Order 1), `n_points` and `spacing` are ignored for that call.\n",
    "- The adaptive backend automatically rescales the polynomial basis for numerical stability.\n",
    "\n",
    "### Requirements\n",
    "`derivkit` installed and importable in your Python environment.\n"
   ]
  },
  {
   "cell_type": "code",
   "execution_count": null,
   "id": "1",
   "metadata": {},
   "outputs": [],
   "source": [
    "import numpy as np\n",
    "\n",
    "from derivkit.derivative_kit import DerivativeKit\n",
    "\n",
    "\n",
    "def damped_sine_plus_cubic(x: float) -> float:\n",
    "    \"\"\"Returns a damped sine plus cubic function for the demo.\"\"\"\n",
    "    return np.exp(-x * x) * np.sin(3.0 * x) + 0.1 * x**3\n",
    "\n",
    "\n",
    "def truth_1_2_3(x: float) -> tuple[float, float, float]:\n",
    "    \"\"\"Returns the analytic 1st, 2nd, and 3rd derivatives at x.\"\"\"\n",
    "    ex = np.exp(-x * x)\n",
    "    s3 = np.sin(3.0 * x)\n",
    "    c3 = np.cos(3.0 * x)\n",
    "    d1 = ex * (3.0 * c3 - 2.0 * x * s3) + 0.3 * x * x\n",
    "    d2 = ex * ((4.0 * x * x - 11.0) * s3 - 12.0 * x * c3) + 0.6 * x\n",
    "    d3 = ex * ((-8.0 * x**3 + 66.0 * x) * s3 + (36.0 * x * x - 45.0) * c3) + 0.6\n",
    "    return d1, d2, d3\n",
    "\n",
    "\n",
    "x0 = 0.3  # Point at which to evaluate derivatives\n",
    "dk = DerivativeKit(function=damped_sine_plus_cubic, x0=x0)  # Create DerivativeKit instance\n",
    "t1, t2, t3 = truth_1_2_3(x0)  # Analytic derivatives\n"
   ]
  },
  {
   "cell_type": "markdown",
   "id": "2",
   "metadata": {},
   "source": [
    "## Derivative order 1\n",
    "\n",
    "Here we will use a **user-supplied uniform grid** for the adaptive method. For the finite-difference baseline, we use a supported 5-point central stencil with a user-defined step size."
   ]
  },
  {
   "cell_type": "code",
   "execution_count": null,
   "id": "3",
   "metadata": {},
   "outputs": [],
   "source": [
    "h = 0.16   # half-width of the offset grid\n",
    "step = 0.02  # step size for the uniform grid\n",
    "t1_offsets = np.arange(-h, h, step)  # uniform offsets around x0\n",
    "\n",
    "# Adaptive method\n",
    "d1_ad = dk.differentiate(order=1, grid=(\"offsets\", t1_offsets))  # Adaptive 1st derivative\n",
    "\n",
    "# Finite-difference method\n",
    "d1_fd = dk.differentiate(method=\"finite\", order=1, stepsize=5e-4, num_points=5)\n",
    "\n",
    "print(\"Order 1 →  analytic, adaptive, finite:\")\n",
    "print(f\"  {t1:>12.6f}   {d1_ad:>12.6f}   {d1_fd:>12.6f}\")\n"
   ]
  },
  {
   "cell_type": "markdown",
   "id": "4",
   "metadata": {},
   "source": [
    "## Derivative order 2\n",
    "\n",
    "Here we use the default Chebyshev grid with an explicit spacing for the adaptive method. For the finite-difference baseline, we again use a supported 5-point central stencil with a user-defined step size."
   ]
  },
  {
   "cell_type": "code",
   "execution_count": null,
   "id": "5",
   "metadata": {},
   "outputs": [],
   "source": [
    "# Adaptive method\n",
    "d2_ad = dk.differentiate(order=2, n_points=19, spacing=0.05, base_abs=1e-3)\n",
    "\n",
    "# Finite-difference method\n",
    "d2_fd = dk.differentiate(method=\"finite\", order=2, stepsize=5e-4, num_points=5)\n",
    "\n",
    "print(\"\\nOrder 2 →  analytic, adaptive, finite:\")\n",
    "print(f\"  {t2:>12.6f}   {d2_ad:>12.6f}   {d2_fd:>12.6f}\")\n"
   ]
  },
  {
   "cell_type": "markdown",
   "id": "6",
   "metadata": {},
   "source": [
    "## Derivative order 3\n",
    "\n",
    "Here we use the default Chebyshev grid where spacing=1/8 sets the half-width of the sampling window around x0, with symmetric offsets. We also specify `n_workers=2` to demonstrate parallel evaluation. For the finite-difference baseline, we again use a supported 5-point central stencil with a user-defined step size."
   ]
  },
  {
   "cell_type": "code",
   "execution_count": null,
   "id": "7",
   "metadata": {},
   "outputs": [],
   "source": [
    "# Adaptive method\n",
    "d3_ad = dk.differentiate(order=3, n_points=19, spacing=1/8, n_workers=2)\n",
    "\n",
    "# Finite-difference method\n",
    "d3_fd = dk.differentiate(method=\"finite\", order=3, stepsize=5e-4, num_points=5)\n",
    "\n",
    "print(\"\\nOrder 3 →  analytic, adaptive, finite:\")\n",
    "print(f\"  {t3:>12.6f}   {d3_ad:>12.6f}   {d3_fd:>12.6f}\")\n"
   ]
  },
  {
   "cell_type": "markdown",
   "id": "8",
   "metadata": {},
   "source": [
    "## Print summary table"
   ]
  },
  {
   "cell_type": "code",
   "execution_count": null,
   "id": "9",
   "metadata": {},
   "outputs": [],
   "source": [
    "thick = \"=\" * 62\n",
    "thin = \"-\" * 62\n",
    "print(\"\\n\" + thick)\n",
    "title = \"f(x) = exp(-x^2) * sin(3x) + 0.1 * x^3\"\n",
    "print(title)\n",
    "print(f\"x0 = {x0:.4f}\")\n",
    "print(thin)\n",
    "print(\"Order   Analytic          Adaptive          Finite\")\n",
    "print(thin)\n",
    "print(f\"  1   {t1:>12.6f}   {d1_ad:>12.6f}   {d1_fd:>12.6f}\")\n",
    "print(f\"  2   {t2:>12.6f}   {d2_ad:>12.6f}   {d2_fd:>12.6f}\")\n",
    "print(f\"  3   {t3:>12.6f}   {d3_ad:>12.6f}   {d3_fd:>12.6f}\")\n",
    "print(thick)\n"
   ]
  }
 ],
 "metadata": {
  "kernelspec": {
   "display_name": "Python 3 (ipykernel)",
   "language": "python",
   "name": "python3"
  }
 },
 "nbformat": 4,
 "nbformat_minor": 5
}
