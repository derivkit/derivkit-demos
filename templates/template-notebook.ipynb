{
 "cells": [
  {
   "cell_type": "markdown",
   "id": "0",
   "metadata": {},
   "source": [
    "# DerivKit: DerivativeKit — [TITLE HERE]\n",
    "\n",
    "### Summary\n",
    "Here you should give a gneeral big picture summary of what this notebook will demonstrate.\n",
    "\n",
    "\n",
    "### Usage\n",
    "Here you can specify how to run this as a standalone script. For example, if your script is named `[script-name].py` and is located in the `demo-scripts/` directory, you would write:\n",
    "\n",
    "```bash\n",
    "$ python demo-scripts/[script-name].py\n",
    "```\n",
    "\n",
    "### What it does\n",
    "Here you can outline the steps your notebook will take. Use a bulleted list to describe the workflow.\n",
    "\n",
    "### Notes\n",
    "\n",
    "Here you can add any additional notes or tips relevant to your specific demonstration.\n",
    "\n",
    "### Requirements\n",
    "\n",
    "- `derivkit` installed and importable in your Python environment.\n"
   ]
  },
  {
   "cell_type": "code",
   "execution_count": null,
   "id": "1",
   "metadata": {},
   "outputs": [],
   "source": []
  }
 ],
 "metadata": {
  "kernelspec": {
   "display_name": "Python 3",
   "language": "python",
   "name": "python3"
  },
  "language_info": {
   "codemirror_mode": {
    "name": "ipython",
    "version": 2
   },
   "file_extension": ".py",
   "mimetype": "text/x-python",
   "name": "python",
   "nbconvert_exporter": "python",
   "pygments_lexer": "ipython2",
   "version": "2.7.6"
  }
 },
 "nbformat": 4,
 "nbformat_minor": 5
}
