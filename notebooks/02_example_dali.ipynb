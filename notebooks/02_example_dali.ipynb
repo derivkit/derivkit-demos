{
 "cells": [
  {
   "cell_type": "markdown",
   "metadata": {},
   "source": [
    "# Fisher and DALI demo\n",
    "\n",
    "This demo illustrates how to use the helper tools in <code>forecast_kit</code> to facilitate scientific forecasting.\n",
    "\n",
    "The forecasting tools can return a Fisher matrix, and the 3-dimensional and 4-dimensional tensors of the doublet-DALI approximation.\n",
    "\n",
    "The required inputs are:\n",
    "- **A function defining your observable(s):** This should take as input a single list of parameter values, corresponding to your model parameters. It should return a list of observables. A one-parameter model, or a single observable, should still be structured as a list containing one item.\n",
    "- **The fiducial values of your model parameter(s):** This should likewise be a single list of parameter values. The ordering of the parameters should match the input of your observable function.\n",
    "- **The covariance matrix of the observable(s):** The ordering of the entries in the covariance matrix should match the output of your observable function."
   ]
  },
  {
   "cell_type": "code",
   "execution_count": 1,
   "metadata": {},
   "outputs": [],
   "source": [
    "import numpy as np\n",
    "from derivkit.forecast_kit import ForecastKit"
   ]
  },
  {
   "cell_type": "code",
   "execution_count": 2,
   "metadata": {},
   "outputs": [],
   "source": [
    "# Define a function: it returns two observables as a function of two model parameters.\n",
    "def myf(paramList):\n",
    "    x = paramList[0]\n",
    "    y = paramList[1]\n",
    "    obs1 = x + y\n",
    "    obs2 = x * x + 2 * y * y\n",
    "    obsList = np.array([obs1,obs2])\n",
    "    return obsList"
   ]
  },
  {
   "cell_type": "code",
   "execution_count": 3,
   "metadata": {},
   "outputs": [],
   "source": [
    "# Prepare the three inputs necessary for the forecasting tool:\n",
    "# observable function, fiducial parameter values, and observable covariance matrix.\n",
    "observables = myf\n",
    "fiducial_values = [1, 2]\n",
    "covmat = np.array([[1,0],[0,1]])"
   ]
  },
  {
   "cell_type": "code",
   "execution_count": 4,
   "metadata": {},
   "outputs": [],
   "source": [
    "# Initialize the forecasting utility using these inputs.\n",
    "forecaster = ForecastKit(observables, fiducial_values, covmat)"
   ]
  },
  {
   "cell_type": "code",
   "execution_count": 5,
   "metadata": {},
   "outputs": [
    {
     "name": "stdout",
     "output_type": "stream",
     "text": [
      "[[1. 2.]\n",
      " [1. 8.]]\n"
     ]
    }
   ],
   "source": [
    "# Compute and print all first-order derivatives of the observables.\n",
    "first_order_derivs = forecaster.get_derivatives(derivative_order = 1)\n",
    "print(first_order_derivs)"
   ]
  },
  {
   "cell_type": "code",
   "execution_count": 6,
   "metadata": {},
   "outputs": [
    {
     "name": "stdout",
     "output_type": "stream",
     "text": [
      "[[[2.31187391e-10 2.00000000e+00]\n",
      "  [1.37983094e-13 1.39672683e-13]]\n",
      "\n",
      " [[4.28029189e-14 6.21768717e-13]\n",
      "  [5.77968479e-11 4.00000000e+00]]]\n"
     ]
    }
   ],
   "source": [
    "# Compute and print all second-order derivatives of the observables.\n",
    "second_order_derivs = forecaster.get_derivatives(derivative_order = 2)\n",
    "print(second_order_derivs)"
   ]
  },
  {
   "cell_type": "code",
   "execution_count": 7,
   "metadata": {},
   "outputs": [
    {
     "name": "stdout",
     "output_type": "stream",
     "text": [
      "Fisher matrix: \n",
      "2\n",
      "[[ 5. 17.]\n",
      " [17. 65.]]\n"
     ]
    }
   ],
   "source": [
    "# Compute and print the Fisher matrix.\n",
    "fisher_matrix = forecaster.get_forecast_tensors(forecast_order = 1)\n",
    "print('Fisher matrix: ')\n",
    "print(fisher_matrix.ndim)\n",
    "print(fisher_matrix)"
   ]
  },
  {
   "cell_type": "code",
   "execution_count": 8,
   "metadata": {},
   "outputs": [
    {
     "name": "stdout",
     "output_type": "stream",
     "text": [
      "G tensor: \n",
      "3\n",
      "[[[4.00000000e+00 1.60000000e+01]\n",
      "  [4.17328459e-13 1.25536456e-12]]\n",
      "\n",
      " [[1.28634035e-12 5.01695265e-12]\n",
      "  [8.00000000e+00 3.20000000e+01]]]\n",
      "H tensor: \n",
      "4\n",
      "[[[[4.00000000e+00 2.79345366e-13]\n",
      "   [1.24353743e-12 8.00000000e+00]]\n",
      "\n",
      "  [[2.79345366e-13 3.85477925e-26]\n",
      "   [9.27501839e-26 5.58690731e-13]]]\n",
      "\n",
      "\n",
      " [[[1.24353743e-12 9.27501839e-26]\n",
      "   [3.88428427e-25 2.48707487e-12]]\n",
      "\n",
      "  [[8.00000000e+00 5.58690731e-13]\n",
      "   [2.48707487e-12 1.60000000e+01]]]]\n"
     ]
    }
   ],
   "source": [
    "# Compute and print the DALI \"G\" and \"H\" tensors of the doublet-DALI approximation.\n",
    "DALI_G, DALI_H = forecaster.get_forecast_tensors(forecast_order = 2)\n",
    "print('G tensor: ')\n",
    "print(DALI_G.ndim)\n",
    "print(DALI_G)\n",
    "print('H tensor: ')\n",
    "print(DALI_H.ndim)\n",
    "print(DALI_H)"
   ]
  },
  {
   "cell_type": "code",
   "execution_count": null,
   "metadata": {},
   "outputs": [],
   "source": []
  }
 ],
 "metadata": {
  "kernelspec": {
   "display_name": "derivKernel",
   "language": "python",
   "name": "deriv"
  },
  "language_info": {
   "codemirror_mode": {
    "name": "ipython",
    "version": 3
   },
   "file_extension": ".py",
   "mimetype": "text/x-python",
   "name": "python",
   "nbconvert_exporter": "python",
   "pygments_lexer": "ipython3",
   "version": "3.10.18"
  }
 },
 "nbformat": 4,
 "nbformat_minor": 5
}
