{
 "cells": [
  {
   "cell_type": "markdown",
   "id": "0",
   "metadata": {},
   "source": [
    "# Fisher and DALI demo\n",
    "\n",
    "This demo illustrates how to use the helper tools in <code>forecast_kit</code> to facilitate scientific forecasting.\n",
    "\n",
    "The forecasting tools can return a Fisher matrix, and the 3-dimensional and 4-dimensional tensors of the doublet-DALI approximation.\n",
    "\n",
    "The required inputs are:\n",
    "- **A function defining your observable(s):** This should take as input a single list of parameter values, corresponding to your model parameters. It should return a list of observables. A one-parameter model, or a single observable, should still be structured as a list containing one item.\n",
    "- **The fiducial values of your model parameter(s):** This should likewise be a single list of parameter values. The ordering of the parameters should match the input of your observable function.\n",
    "- **The covariance matrix of the observable(s):** The ordering of the entries in the covariance matrix should match the output of your observable function."
   ]
  },
  {
   "cell_type": "code",
   "execution_count": null,
   "id": "1",
   "metadata": {},
   "outputs": [],
   "source": [
    "import numpy as np\n",
    "from derivkit.forecast_kit import ForecastKit"
   ]
  },
  {
   "cell_type": "code",
   "execution_count": null,
   "id": "2",
   "metadata": {},
   "outputs": [],
   "source": [
    "# Define a function: it returns two observables as a function of two model parameters.\n",
    "def myf(paramList):\n",
    "    x = paramList[0]\n",
    "    y = paramList[1]\n",
    "    obs1 = x + y\n",
    "    obs2 = x * x + 2 * y * y\n",
    "    obsList = np.array([obs1, obs2])\n",
    "    return obsList"
   ]
  },
  {
   "cell_type": "code",
   "execution_count": null,
   "id": "3",
   "metadata": {},
   "outputs": [],
   "source": [
    "# Prepare the three inputs necessary for the forecasting tool:\n",
    "# observable function, fiducial parameter values, and observable covariance matrix.\n",
    "observables = myf\n",
    "fiducial_values = [1, 2]\n",
    "covmat = np.array([[1, 0], [0, 1]])"
   ]
  },
  {
   "cell_type": "code",
   "execution_count": null,
   "id": "4",
   "metadata": {},
   "outputs": [],
   "source": [
    "# Initialize the forecasting utility using these inputs.\n",
    "forecaster = ForecastKit(observables, fiducial_values, covmat)"
   ]
  },
  {
   "cell_type": "code",
   "execution_count": null,
   "id": "5",
   "metadata": {},
   "outputs": [],
   "source": [
    "# Compute and print all first-order derivatives of the observables.\n",
    "first_order_derivs = forecaster.get_derivatives(derivative_order=1)\n",
    "print(first_order_derivs)"
   ]
  },
  {
   "cell_type": "code",
   "execution_count": null,
   "id": "6",
   "metadata": {},
   "outputs": [],
   "source": [
    "# Compute and print all second-order derivatives of the observables.\n",
    "second_order_derivs = forecaster.get_derivatives(derivative_order=2)\n",
    "print(second_order_derivs)"
   ]
  },
  {
   "cell_type": "code",
   "execution_count": null,
   "id": "7",
   "metadata": {},
   "outputs": [],
   "source": [
    "# Compute and print the Fisher matrix.\n",
    "fisher_matrix = forecaster.get_forecast_tensors(forecast_order=1)\n",
    "print(\"Fisher matrix: \")\n",
    "print(fisher_matrix.ndim)\n",
    "print(fisher_matrix)"
   ]
  },
  {
   "cell_type": "code",
   "execution_count": null,
   "id": "8",
   "metadata": {},
   "outputs": [],
   "source": [
    "# Compute and print the DALI \"G\" and \"H\" tensors of the doublet-DALI approximation.\n",
    "DALI_G, DALI_H = forecaster.get_forecast_tensors(forecast_order=2)\n",
    "print(\"G tensor: \")\n",
    "print(DALI_G.ndim)\n",
    "print(DALI_G)\n",
    "print(\"H tensor: \")\n",
    "print(DALI_H.ndim)\n",
    "print(DALI_H)"
   ]
  },
  {
   "cell_type": "code",
   "execution_count": null,
   "id": "9",
   "metadata": {},
   "outputs": [],
   "source": []
  }
 ],
 "metadata": {
  "kernelspec": {
   "display_name": "derivKernel",
   "language": "python",
   "name": "deriv"
  },
  "language_info": {
   "codemirror_mode": {
    "name": "ipython",
    "version": 3
   },
   "file_extension": ".py",
   "mimetype": "text/x-python",
   "name": "python",
   "nbconvert_exporter": "python",
   "pygments_lexer": "ipython3",
   "version": "3.10.18"
  }
 },
 "nbformat": 4,
 "nbformat_minor": 5
}
