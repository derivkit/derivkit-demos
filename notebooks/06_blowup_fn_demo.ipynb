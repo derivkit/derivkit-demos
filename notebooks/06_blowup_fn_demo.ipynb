{
 "cells": [
  {
   "cell_type": "markdown",
   "id": "0",
   "metadata": {},
   "source": [
    "# Robustness Tests on Blow-up and Non-smooth Functions\n",
    "\n",
    "This section benchmarks the finite difference and adaptive derivative estimation methods on a set of **pathological or non-smooth functions**. These functions are designed to challenge the stability and robustness of derivative estimators.\n",
    "\n",
    "---\n",
    "\n",
    "### Functions Tested\n",
    "\n",
    "We use a curated set of blow-up or discontinuous functions:\n",
    "\n",
    "- $f(x) = \\dfrac{1}{x}$  — singular at $x = 0$\n",
    "- $f(x) = \\log(x)$  — undefined for $x \\leq 0$\n",
    "- $f(x) = |x|$  — non-differentiable at $x = 0$\n",
    "- $f(x) = \\mathrm{sign}(x)$  — discontinuous at $x = 0$\n",
    "- $f(x) = \\sqrt{|x|}$  — infinite slope at $x = 0$\n",
    "\n",
    "These represent edge cases where smooth polynomial approximations struggle, and are commonly used to assess the limits of numerical methods.\n",
    "\n",
    "---\n",
    "\n",
    "### Configuration\n",
    "\n",
    "- **Evaluation point:** $x_0 = 0.04$ (away from singularities but still in challenging regimes)\n",
    "- **Noise model:** Gaussian noise with standard deviation $\\sigma = 0.02$\n",
    "- **Derivative order:** First-order ($f'(x)$)\n",
    "- **Trials:** 100 Monte Carlo trials\n",
    "- **Fit tolerance:** 0.05\n",
    "- **Plot directory:** `plots/blowup_fn`\n",
    "\n",
    "---\n",
    "\n",
    "### Plots Generated\n",
    "\n",
    "For each blow-up function, the following diagnostics are generated:\n",
    "\n",
    "1. **Overlaid Histograms**\n",
    "   - Visualizes the spread of derivative estimates under noise.\n",
    "\n",
    "2. **MSE vs. Noise Level**\n",
    "   - Tracks mean squared error across increasing noise levels.\n",
    "\n",
    "3. **Empirical CDF of Squared Errors**\n",
    "   - Shows the full distribution of squared errors to highlight tail behavior.\n",
    "\n",
    "4. **Paired Error Differences**\n",
    "   - Compares squared errors between methods for each trial.\n",
    "\n",
    "5. **Multi-Order Error vs. SNR Sweep**\n",
    "   - Explores how MSE scales with signal-to-noise ratio for derivative orders 1–3, evaluated at $x = 0.5$ to avoid hard singularities.\n",
    "\n",
    "---\n",
    "\n",
    "This suite of plots helps reveal how each method degrades or adapts when faced with sharp features, discontinuities, or singularities. Comparing these results with the smooth-function benchmarks gives a full picture of method performance across regimes.\n"
   ]
  },
  {
   "cell_type": "code",
   "execution_count": null,
   "id": "1",
   "metadata": {},
   "outputs": [],
   "source": [
    "import warnings\n",
    "\n",
    "import numpy as np\n",
    "\n",
    "from derivkit.plotutils.plot_kit import PlotKit\n",
    "from derivkit.plotutils.plot_kit import plot_multi_order_error_vs_noise\n",
    "from notebooks.functions_dict import blowup_functions, get_ordinal, fit_tolerance"
   ]
  },
  {
   "cell_type": "code",
   "execution_count": null,
   "id": "2",
   "metadata": {},
   "outputs": [],
   "source": [
    "# Suppressing warnings to keep notebook output clean for version control (e.g., Git).\n",
    "# Comment out the line below if you want to see the warnings for debugging.\n",
    "warnings.filterwarnings(\"ignore\")"
   ]
  },
  {
   "cell_type": "code",
   "execution_count": null,
   "id": "3",
   "metadata": {},
   "outputs": [],
   "source": [
    "# Configuration parameters for the derivative analysis ---\n",
    "deriv_order = 1  # We are computing the 1st-order derivative (i.e., f'(x))\n",
    "x0 = 0.04  # Evaluation point for all functions (slightly offset from 0 to avoid singularities)\n",
    "noise_std = 0.02  # Standard deviation of the additive Gaussian noise\n",
    "trials = 100  # Number of Monte Carlo trials per function\n",
    "tol = fit_tolerance[\n",
    "    f\"{deriv_order}\"\n",
    "]  # Tolerance level for adaptive fitting (e.g., residual threshold)\n",
    "plot_dir = \"plots/blowup_fn\"  # Directory where plots will be saved\n",
    "\n",
    "# Initialize a dictionary to store PlotKit instances for each blow-up function ---\n",
    "plotters = {}\n",
    "\n",
    "# Loop over each blow-up function and create a dedicated PlotKit instance\n",
    "for name, func in blowup_functions.items():\n",
    "    print(f\"Processing: {name}\")\n",
    "\n",
    "    # Create a PlotKit object for this function with specified derivative settings\n",
    "    plotter = PlotKit(\n",
    "        function=func[\"func\"],  # The function to differentiate\n",
    "        central_value=x0,  # Evaluation point\n",
    "        derivative_order=deriv_order,  # Derivative order (first derivative here)\n",
    "        fit_tolerance=tol,  # Tolerance for the adaptive fitting method\n",
    "        plot_dir=plot_dir,  # Output directory for plots\n",
    "    )\n",
    "\n",
    "    # Store the PlotKit instance in the dictionary for later use\n",
    "    plotters[name] = plotter"
   ]
  },
  {
   "cell_type": "markdown",
   "id": "4",
   "metadata": {},
   "source": [
    "## Plots"
   ]
  },
  {
   "cell_type": "markdown",
   "id": "5",
   "metadata": {},
   "source": [
    "### Overlaid Histograms"
   ]
  },
  {
   "cell_type": "code",
   "execution_count": null,
   "id": "6",
   "metadata": {},
   "outputs": [],
   "source": [
    "for name, func in blowup_functions.items():\n",
    "    print(f\"Processing: {name}\")\n",
    "    title = rf\"{get_ordinal(deriv_order)}-order of {func['label']}\"\n",
    "    plotter = plotters[name]\n",
    "    plotter.plot_overlaid_histograms(\n",
    "        derivative_order=deriv_order, noise_std=noise_std, title=title, extra_info=name\n",
    "    )"
   ]
  },
  {
   "cell_type": "markdown",
   "id": "7",
   "metadata": {},
   "source": [
    "### MSE vs Noise Level"
   ]
  },
  {
   "cell_type": "code",
   "execution_count": null,
   "id": "8",
   "metadata": {},
   "outputs": [],
   "source": [
    "for name, func in blowup_functions.items():\n",
    "    print(f\"Processing: {name}\")\n",
    "    title = rf\"{get_ordinal(deriv_order)}-order of {func['label']}\"\n",
    "    noise_levels = np.geomspace(1e-4, 1e-1, 10)  # from low to high noise\n",
    "    plotter = plotters[name]\n",
    "    plotter.plot_error_vs_noise(\n",
    "        derivative_order=deriv_order,\n",
    "        noise_levels=noise_levels,\n",
    "        trials=trials,\n",
    "        title=title,\n",
    "        extra_info=name,\n",
    "    )"
   ]
  },
  {
   "cell_type": "markdown",
   "id": "9",
   "metadata": {},
   "source": [
    "### Empirical CDF of Squared Errors"
   ]
  },
  {
   "cell_type": "code",
   "execution_count": null,
   "id": "10",
   "metadata": {},
   "outputs": [],
   "source": [
    "for name, func in blowup_functions.items():\n",
    "    print(f\"Processing: {name}\")\n",
    "    title = rf\"{get_ordinal(deriv_order)}-order of {func['label']}\"\n",
    "    plotter = plotters[name]\n",
    "    plotter.plot_ecdf_errors(\n",
    "        noise_std=noise_std, trials=25, title=title, extra_info=name\n",
    "    )"
   ]
  },
  {
   "cell_type": "markdown",
   "id": "11",
   "metadata": {},
   "source": [
    "### Paired Error Differences"
   ]
  },
  {
   "cell_type": "code",
   "execution_count": null,
   "id": "12",
   "metadata": {},
   "outputs": [],
   "source": [
    "for name, func in blowup_functions.items():\n",
    "    print(f\"Processing: {name}\")\n",
    "    title = rf\"{get_ordinal(deriv_order)}-order of {func['label']}\"\n",
    "    plotter = plotters[name]\n",
    "    plotter.plot_paired_error_differences(\n",
    "        noise_std=noise_std, trials=trials, title=title, extra_info=name\n",
    "    )"
   ]
  },
  {
   "cell_type": "markdown",
   "id": "13",
   "metadata": {},
   "source": [
    "### Multi-Order Error vs SNR Sweep\n",
    "\n",
    "This plot explores how the mean squared error (MSE) of derivative estimates scales with signal-to-noise ratio (SNR) for different polynomial orders. It evaluates the robustness of the adaptive fitting method across a range of noise levels, specifically at $x = 0.5$ to avoid singularities."
   ]
  },
  {
   "cell_type": "code",
   "execution_count": null,
   "id": "14",
   "metadata": {},
   "outputs": [],
   "source": [
    "for name, func in blowup_functions.items():\n",
    "    snr_values = np.logspace(1, 5, 20)\n",
    "    print(f\"Processing: {name}\")\n",
    "    title = rf\"{get_ordinal(deriv_order)}-order of {func['label']}\"\n",
    "    print(f\"fuction: {func['func'].__name__}, x_center: {0.5}, title: {title}\")\n",
    "    plot_multi_order_error_vs_noise(\n",
    "        function=func[\"func\"],\n",
    "        central_value=0.5,\n",
    "        snr_values=snr_values,\n",
    "        orders=(1, 2, 3),\n",
    "        trials=300,\n",
    "        fit_tolerance=0.07,\n",
    "        title=title,\n",
    "        extra_info=name,\n",
    "        plot_dir=plot_dir,\n",
    "    )"
   ]
  }
 ],
 "metadata": {
  "kernelspec": {
   "display_name": "Python 3 (ipykernel)",
   "language": "python",
   "name": "python3"
  },
  "language_info": {
   "codemirror_mode": {
    "name": "ipython",
    "version": 2
   },
   "file_extension": ".py",
   "mimetype": "text/x-python",
   "name": "python",
   "nbconvert_exporter": "python",
   "pygments_lexer": "ipython2",
   "version": "2.7.6"
  }
 },
 "nbformat": 4,
 "nbformat_minor": 5
}
