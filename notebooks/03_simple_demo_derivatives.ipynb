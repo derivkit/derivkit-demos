{
 "cells": [
  {
   "cell_type": "markdown",
   "id": "0",
   "metadata": {},
   "source": [
    "# Adaptive Derivative Fitting Demo\n",
    "\n",
    "This demo illustrates how the **adaptive polynomial fitting method** estimates the **first derivative** of a nonlinear function in the presence of noise.\n",
    "\n",
    "- **Target function:**\n",
    "  $f(x) = \\sin(5x) + 0.5x$\n",
    "  This function exhibits both rapid oscillations and a linear trend, making it an ideal test case for evaluating the robustness of derivative estimation methods.\n",
    "\n",
    "- **Evaluation point:**\n",
    "  $x_0 = 0.4$\n",
    "\n",
    "- **Noise model:**\n",
    "  Additive Gaussian noise with standard deviation $\\sigma = 0.02$ is injected to simulate uncertainty in function values.\n",
    "\n",
    "- **Fitting method:**\n",
    "  We use the `AdaptiveFitDerivative` approach to fit a local polynomial to noisy samples around $x_0$. The method:\n",
    "  - selectively prunes high-residual points to improve robustness,\n",
    "  - fits a polynomial to the remaining data, and\n",
    "  - visualizes the result by plotting:\n",
    "    - points used vs. excluded in the fit,\n",
    "    - the fitted polynomial curve, and\n",
    "    - a shaded tolerance band indicating the residual threshold.\n"
   ]
  },
  {
   "cell_type": "code",
   "execution_count": null,
   "id": "1",
   "metadata": {},
   "outputs": [],
   "source": [
    "import warnings\n",
    "\n",
    "import numpy as np\n",
    "\n",
    "from derivkit.plotutils.plot_kit import PlotKit"
   ]
  },
  {
   "cell_type": "code",
   "execution_count": null,
   "id": "2",
   "metadata": {},
   "outputs": [],
   "source": [
    "# Suppressing warnings to keep notebook output clean for version control (e.g., Git).\n",
    "# Comment out the line below if you want to see the warnings for debugging.\n",
    "warnings.filterwarnings(\"ignore\")"
   ]
  },
  {
   "cell_type": "code",
   "execution_count": null,
   "id": "3",
   "metadata": {},
   "outputs": [],
   "source": [
    "# Define the target function: a combination of oscillatory and linear behavior\n",
    "def demo_func(x):\n",
    "    return np.sin(5 * x) + 0.5 * x  # nonlinear + mild slope\n",
    "\n",
    "\n",
    "# Set the evaluation point at which the derivative will be computed\n",
    "demo_x0 = 0.4\n",
    "\n",
    "# Define the derivative order to compute\n",
    "derivative_order = 1\n",
    "\n",
    "# Directory to save plots\n",
    "plot_dir = \"plots/\"\n",
    "\n",
    "# Title for the plot (used in display and saved file)\n",
    "demo_title = \"1st-order of $\\\\sin(5x) + 0.5 x$\"\n",
    "\n",
    "# Initialize the plotting utility with the target function and parameters\n",
    "demo_plotter = PlotKit(\n",
    "    function=demo_func,\n",
    "    central_value=demo_x0,\n",
    "    derivative_order=derivative_order,  # compute the first derivative\n",
    "    fit_tolerance=0.01,  # relative residual tolerance for adaptive fitting\n",
    "    plot_dir=plot_dir,  # where to save the resulting figure\n",
    ")\n",
    "\n",
    "# Generate and display a diagnostic plot of the adaptive polynomial fit\n",
    "demo_plotter.adaptive_fit_demo(\n",
    "    derivative_order=derivative_order,\n",
    "    noise_std=0.02,  # simulate measurement noise on f(x)\n",
    "    title=demo_title,  # plot title\n",
    "    extra_info=\"demo_func\",  # tag for output filenames\n",
    ")"
   ]
  },
  {
   "cell_type": "markdown",
   "id": "4",
   "metadata": {},
   "source": [
    "**Note on the shaded region and point inclusion:**\n",
    "The shaded band in the plot shows the **tolerance threshold** used during adaptive polynomial fitting.\n",
    "Its purpose is purely **illustrative**: it visualizes the region within which the fitted polynomial deviates from the noisy data by no more than the specified relative residual (e.g., 1%).\n",
    "\n",
    "However, **point inclusion in the fit is not based on proximity to the band**, but on a comparison between the relative residual at each point and the specified threshold:\n",
    "\n",
    "$\\left| \\frac{f(x_i) - p(x_i)}{f(x_i)} \\right| < \\text{tolerance}$\n",
    "\n",
    "Therefore:\n",
    "\n",
    "- Points **inside** the shaded band can still be **excluded** if their relative residual is large due to small $ f(x_i) $.\n",
    "- Points **outside** the band can still be **included** if their relative residual is small.\n",
    "\n",
    "This behavior is expected and highlights the importance of using **relative residuals** rather than absolute differences, especially when $ f(x) $ varies significantly in amplitude.\n",
    "The fit procedure prioritizes **robustness to local noise** and **stability of the derivative**, not strict adherence to a visual envelope.\n"
   ]
  },
  {
   "cell_type": "code",
   "execution_count": null,
   "id": "5",
   "metadata": {},
   "outputs": [],
   "source": []
  }
 ],
 "metadata": {
  "kernelspec": {
   "display_name": "Python 3 (ipykernel)",
   "language": "python",
   "name": "python3"
  },
  "language_info": {
   "codemirror_mode": {
    "name": "ipython",
    "version": 2
   },
   "file_extension": ".py",
   "mimetype": "text/x-python",
   "name": "python",
   "nbconvert_exporter": "python",
   "pygments_lexer": "ipython2",
   "version": "2.7.6"
  }
 },
 "nbformat": 4,
 "nbformat_minor": 5
}
