{
 "cells": [
  {
   "cell_type": "markdown",
   "id": "0",
   "metadata": {},
   "source": [
    "# Benchmarking Derivative Estimation on Standard Functions\n",
    "\n",
    "In this section, we benchmark the performance of finite difference and adaptive polynomial fitting methods on a set of **well-behaved (smooth)** functions. These functions are expected to respond well to polynomial fitting and serve as a controlled environment for assessing accuracy and robustness under noise.\n",
    "\n",
    "---\n",
    "\n",
    "### Functions Used\n",
    "\n",
    "We define two groups of functions:\n",
    "\n",
    "- **Standard (smooth) functions:**\n",
    "  - $f(x) = 2x + 3$  (Linear)\n",
    "  - $f(x) = x^2 - 4x + 2$  (Quadratic)\n",
    "  - $f(x) = \\sin(x)$  (Trigonometric)\n",
    "  - $f(x) = x^3 - 3x^2 + 2x + 1$  (Cubic)\n",
    "  - $f(x) = e^{-x^2}$  (Gaussian)\n",
    "\n",
    "These functions are differentiable and should yield consistent results across derivative methods.\n",
    "\n",
    "---\n",
    "\n",
    "### Configuration\n",
    "\n",
    "- **Evaluation point:** $x_0 = 0.04$\n",
    "- **Noise model:** Gaussian noise with standard deviation $\\sigma = 0.02$\n",
    "- **Derivative order:** First-order ($f'(x)$)\n",
    "- **Trials:** 100 Monte Carlo trials\n",
    "- **Fit tolerance:** 0.05 (used by adaptive fitting)\n",
    "- **Plot directory:** `plots/standard_fn`\n",
    "\n",
    "---\n",
    "\n",
    "### Plots Generated\n",
    "\n",
    "For each function, we generate a series of visual diagnostics:\n",
    "\n",
    "1. **Overlaid Histograms**\n",
    "   - Shows the distribution of derivative estimates under noise.\n",
    "   - Compares the spread and bias of both methods.\n",
    "\n",
    "2. **MSE vs. Noise Level**\n",
    "   - Computes mean squared error (MSE) across varying noise levels.\n",
    "   - Visualizes sensitivity and robustness.\n",
    "\n",
    "3. **Empirical CDF of Squared Errors**\n",
    "   - Plots ECDFs to assess how often each method produces low-error estimates.\n",
    "\n",
    "4. **Paired Error Differences**\n",
    "   - Computes trial-by-trial squared error differences.\n",
    "   - Reveals which method performs better and how often.\n",
    "\n",
    "5. **Multi-Order Error vs. SNR Sweep**\n",
    "   - Evaluates first, second, and third derivatives at $x = 0.5$\n",
    "   - Plots MSE vs. inverse SNR to explore scaling behavior for each method and order.\n",
    "\n",
    "---\n",
    "\n",
    "These plots provide a thorough comparison of adaptive vs. finite difference derivative methods in the low-noise, smooth-function regime. In the next section, we will test these methods on **pathological or blow-up functions** to evaluate their limits.\n"
   ]
  },
  {
   "cell_type": "code",
   "execution_count": null,
   "id": "1",
   "metadata": {},
   "outputs": [],
   "source": [
    "import warnings\n",
    "\n",
    "import numpy as np\n",
    "\n",
    "from derivkit.plotutils.plot_kit import PlotKit\n",
    "from derivkit.plotutils.plot_kit import plot_multi_order_error_vs_noise\n",
    "from notebooks.functions_dict import standard_functions, get_ordinal, fit_tolerance"
   ]
  },
  {
   "cell_type": "code",
   "execution_count": null,
   "id": "2",
   "metadata": {},
   "outputs": [],
   "source": [
    "# Suppressing warnings to keep notebook output clean for version control (e.g., Git).\n",
    "# Comment out the line below if you want to see the warnings for debugging.\n",
    "warnings.filterwarnings(\"ignore\")"
   ]
  },
  {
   "cell_type": "code",
   "execution_count": null,
   "id": "3",
   "metadata": {},
   "outputs": [],
   "source": [
    "# config\n",
    "deriv_order = 1\n",
    "x0 = 0.04\n",
    "noise_std = 0.02\n",
    "trials = 100\n",
    "tol = fit_tolerance[f\"{deriv_order}\"]\n",
    "plot_dir = \"plots/standard_fn\"\n",
    "\n",
    "# initialize dictionary to store plotter instances\n",
    "plotters = {}\n",
    "\n",
    "for name, func in standard_functions.items():\n",
    "    print(f\"Processing: {name}\")\n",
    "    plotter = PlotKit(\n",
    "        function=func[\"func\"],\n",
    "        central_value=x0,\n",
    "        derivative_order=deriv_order,\n",
    "        fit_tolerance=tol,\n",
    "        plot_dir=plot_dir,\n",
    "    )\n",
    "    plotters[name] = plotter  # store for later use"
   ]
  },
  {
   "cell_type": "markdown",
   "id": "4",
   "metadata": {},
   "source": [
    "## Plots"
   ]
  },
  {
   "cell_type": "markdown",
   "id": "5",
   "metadata": {},
   "source": [
    "### Overlaid Histograms"
   ]
  },
  {
   "cell_type": "code",
   "execution_count": null,
   "id": "6",
   "metadata": {},
   "outputs": [],
   "source": [
    "for name, func in standard_functions.items():\n",
    "    print(f\"Processing: {name}\")\n",
    "    title = rf\"{get_ordinal(deriv_order)}-order of {func['label']}\"\n",
    "    plotter = plotters[name]\n",
    "    plotter.plot_overlaid_histograms(\n",
    "        derivative_order=deriv_order, noise_std=noise_std, title=title, extra_info=name\n",
    "    )"
   ]
  },
  {
   "cell_type": "markdown",
   "id": "7",
   "metadata": {},
   "source": [
    "### MSE vs. Noise Level"
   ]
  },
  {
   "cell_type": "code",
   "execution_count": null,
   "id": "8",
   "metadata": {},
   "outputs": [],
   "source": [
    "for name, func in standard_functions.items():\n",
    "    print(f\"Processing: {name}\")\n",
    "    title = rf\"{get_ordinal(deriv_order)}-order of {func['label']}\"\n",
    "    noise_levels = np.geomspace(1e-4, 1e-1, 10)  # from low to high noise\n",
    "    plotter = plotters[name]\n",
    "    plotter.plot_error_vs_noise(\n",
    "        derivative_order=deriv_order,\n",
    "        noise_levels=noise_levels,\n",
    "        trials=trials,\n",
    "        title=title,\n",
    "        extra_info=name,\n",
    "    )"
   ]
  },
  {
   "cell_type": "markdown",
   "id": "9",
   "metadata": {},
   "source": [
    "### Empirical CDF of Squared Errors"
   ]
  },
  {
   "cell_type": "code",
   "execution_count": null,
   "id": "10",
   "metadata": {},
   "outputs": [],
   "source": [
    "for name, func in standard_functions.items():\n",
    "    print(f\"Processing: {name}\")\n",
    "    title = rf\"{get_ordinal(deriv_order)}-order of {func['label']}\"\n",
    "    plotter = plotters[name]\n",
    "    plotter.plot_ecdf_errors(\n",
    "        noise_std=noise_std, trials=25, title=title, extra_info=name\n",
    "    )"
   ]
  },
  {
   "cell_type": "markdown",
   "id": "11",
   "metadata": {},
   "source": [
    "### Paired Error Differences"
   ]
  },
  {
   "cell_type": "code",
   "execution_count": null,
   "id": "12",
   "metadata": {},
   "outputs": [],
   "source": [
    "for name, func in standard_functions.items():\n",
    "    print(f\"Processing: {name}\")\n",
    "    title = rf\"{get_ordinal(deriv_order)}-order of {func['label']}\"\n",
    "    plotter = plotters[name]\n",
    "    plotter.plot_paired_error_differences(\n",
    "        noise_std=noise_std, trials=trials, title=title, extra_info=name\n",
    "    )"
   ]
  },
  {
   "cell_type": "markdown",
   "id": "13",
   "metadata": {},
   "source": [
    "### Multi-Order Error vs. SNR Sweep"
   ]
  },
  {
   "cell_type": "code",
   "execution_count": null,
   "id": "14",
   "metadata": {},
   "outputs": [],
   "source": [
    "for name, func in standard_functions.items():\n",
    "    snr_values = np.logspace(1, 5, 20)\n",
    "    print(f\"Processing: {name}\")\n",
    "    title = rf\"{get_ordinal(deriv_order)}-order of {func['label']}\"\n",
    "    print(f\"fuction: {func['func'].__name__}, x_center: {0.5}, title: {title}\")\n",
    "    plot_multi_order_error_vs_noise(\n",
    "        function=func[\"func\"],\n",
    "        central_value=0.5,\n",
    "        snr_values=snr_values,\n",
    "        orders=(1, 2, 3),\n",
    "        trials=300,\n",
    "        fit_tolerance=0.07,\n",
    "        extra_info=name,\n",
    "        plot_dir=plot_dir,\n",
    "    )"
   ]
  },
  {
   "cell_type": "code",
   "execution_count": null,
   "id": "15",
   "metadata": {},
   "outputs": [],
   "source": []
  }
 ],
 "metadata": {
  "kernelspec": {
   "display_name": "Python 3 (ipykernel)",
   "language": "python",
   "name": "python3"
  },
  "language_info": {
   "codemirror_mode": {
    "name": "ipython",
    "version": 2
   },
   "file_extension": ".py",
   "mimetype": "text/x-python",
   "name": "python",
   "nbconvert_exporter": "python",
   "pygments_lexer": "ipython2",
   "version": "2.7.6"
  }
 },
 "nbformat": 4,
 "nbformat_minor": 5
}
