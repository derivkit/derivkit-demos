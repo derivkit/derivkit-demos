{
 "cells": [
  {
   "cell_type": "markdown",
   "metadata": {},
   "source": [
    "# DALI plot\n",
    "This demo compares the true likelihood, the Fisher approximation, and the doublet-DALI approximation for a simple quadratic model, using the derivatives and forecasting tools of <code>DerivKit</code> and <code>ForecastKit</code>. It generates a single plot comparing these three outputs."
   ]
  },
  {
   "cell_type": "code",
   "execution_count": null,
   "metadata": {},
   "outputs": [],
   "source": [
    "import numpy as np\n",
    "from derivkit.forecast_kit import ForecastKit\n",
    "\n",
    "import matplotlib.pyplot as plt\n",
    "\n",
    "myColors = [\"#f21901\", \"#e1af00\", \"#3b9ab2\"]"
   ]
  },
  {
   "cell_type": "code",
   "execution_count": null,
   "metadata": {},
   "outputs": [],
   "source": [
    "from derivkit.plotutils.plot_style import apply_plot_style\n",
    "\n",
    "# Apply this style globally\n",
    "apply_plot_style()\n",
    "\n",
    "# Directory to save plots\n",
    "plot_dir = \"plots/\""
   ]
  },
  {
   "cell_type": "code",
   "execution_count": null,
   "metadata": {},
   "outputs": [],
   "source": [
    "# Define a model: one observable with a quadratic dependence on one model parameter.\n",
    "def testModel1d(paramList):\n",
    "    x = paramList[0]\n",
    "    obs = 1e2 * np.exp(x**2)\n",
    "    return np.array([obs])\n",
    "\n",
    "\n",
    "# Define a function which returns the exact likelihood.\n",
    "def logLike1dExact(sigma_o, fiducial_x, x):\n",
    "    delta_o = testModel1d([x]) - testModel1d([fiducial_x])\n",
    "    logLike = 0\n",
    "    logLike += -0.5 * (delta_o / sigma_o) ** 2\n",
    "    return logLike\n",
    "\n",
    "\n",
    "# Define a function which returns an approximate likelihood using the Fisher and doublet-DALI terms.\n",
    "def logLike1dApprox(tensors, fiducial_x, x):\n",
    "    delta_x = x - fiducial_x\n",
    "    logLike = 0\n",
    "    if len(tensors) >= 1:\n",
    "        F = tensors[0]\n",
    "        logLike += -0.5 * F[0][0] * delta_x**2\n",
    "    if len(tensors) >= 3:\n",
    "        G = tensors[1]\n",
    "        H = tensors[2]\n",
    "        logLike += -0.5 * G[0][0][0] * delta_x**3\n",
    "        logLike += -0.125 * H[0][0][0][0] * delta_x**4\n",
    "    return logLike"
   ]
  },
  {
   "cell_type": "code",
   "execution_count": null,
   "metadata": {},
   "outputs": [],
   "source": [
    "# Define the observables, fiducial parameter values, and covariance matrix.\n",
    "observables = testModel1d\n",
    "fiducial_values = [0.1]\n",
    "covmat = np.array([[1.0]])"
   ]
  },
  {
   "cell_type": "code",
   "execution_count": null,
   "metadata": {},
   "outputs": [],
   "source": [
    "# Initialize the forecasting utility using these inputs.\n",
    "forecaster = ForecastKit(observables, fiducial_values, covmat)"
   ]
  },
  {
   "cell_type": "code",
   "execution_count": null,
   "metadata": {},
   "outputs": [],
   "source": [
    "# Create a list of all three tensors: Fisher, doublet-DALI G, and doublet-DALI H.\n",
    "fisher_matrix = forecaster.get_forecast_tensors(forecast_order=1)\n",
    "DALI_G, DALI_H = forecaster.get_forecast_tensors(forecast_order=2)\n",
    "tensors = [fisher_matrix, DALI_G, DALI_H]"
   ]
  },
  {
   "cell_type": "code",
   "execution_count": null,
   "metadata": {},
   "outputs": [],
   "source": [
    "# Define the fiducial value of the model parameter, x.\n",
    "fiducial_x = fiducial_values[0]\n",
    "# Define the 1-\\sigma error of the observable, o.\n",
    "sigma_o = np.sqrt(covmat[0][0])\n",
    "# Create a 1-dimensional grid of x values over which to compute the likelihoods.\n",
    "xgrid = np.linspace(-1, 1, 1000)\n",
    "# Create a sparser grid to use for scatter points on the DALI curve.\n",
    "xgrid_sparse = np.linspace(-0.2, 0.2, 100)\n",
    "# Compute the exact and approximate likelihoods over this grid.\n",
    "exactLike = [logLike1dExact(sigma_o, fiducial_x, x) for x in xgrid]\n",
    "fisherLike = [logLike1dApprox([fisher_matrix], fiducial_x, x) for x in xgrid]\n",
    "doubletDALILike = [logLike1dApprox(tensors, fiducial_x, x) for x in xgrid_sparse]"
   ]
  },
  {
   "cell_type": "code",
   "execution_count": null,
   "metadata": {},
   "outputs": [],
   "source": [
    "# Plot and compare the three results:\n",
    "# the exact likelihood, the doublet-DALI approximation, and the Fisher matrix approximation.\n",
    "plt.figure(figsize=(8, 5))\n",
    "plt.plot(xgrid, exactLike, label=\"Exact Likelihood\", color=myColors[0], linewidth=3)\n",
    "plt.plot(\n",
    "    xgrid,\n",
    "    fisherLike,\n",
    "    label=\"Fisher Matrix\",\n",
    "    color=myColors[2],\n",
    "    linewidth=3,\n",
    "    linestyle=\"-\",\n",
    ")\n",
    "plt.plot(\n",
    "    xgrid_sparse,\n",
    "    doubletDALILike,\n",
    "    \"o\",\n",
    "    label=\"Doublet DALI\",\n",
    "    color=myColors[1],\n",
    "    markersize=6,\n",
    ")\n",
    "plt.title(\"$\\mathrm{observable}= 100 \\cdot e^{x^2}$\", fontsize=20)\n",
    "plt.xlabel(\"$x$\", fontsize=20)\n",
    "plt.ylabel(\"$\\mathrm{log}(P)$\", fontsize=20)\n",
    "plt.xticks(fontsize=16)\n",
    "plt.yticks(fontsize=16)\n",
    "plt.xlim(-0.3, 0.6)\n",
    "plt.ylim(-0.65, 0.05)\n",
    "plt.legend(fontsize=16, framealpha=1.0)\n",
    "plt.minorticks_off()\n",
    "plt.savefig(plot_dir + \"dali_plot.pdf\")"
   ]
  },
  {
   "cell_type": "code",
   "execution_count": null,
   "metadata": {},
   "outputs": [],
   "source": []
  }
 ],
 "metadata": {
  "kernelspec": {
   "display_name": "DerivKitDevEnv",
   "language": "python",
   "name": "dk-dev"
  },
  "language_info": {
   "codemirror_mode": {
    "name": "ipython",
    "version": 3
   },
   "file_extension": ".py",
   "mimetype": "text/x-python",
   "name": "python",
   "nbconvert_exporter": "python",
   "pygments_lexer": "ipython3",
   "version": "3.10.18"
  }
 },
 "nbformat": 4,
 "nbformat_minor": 4
}
