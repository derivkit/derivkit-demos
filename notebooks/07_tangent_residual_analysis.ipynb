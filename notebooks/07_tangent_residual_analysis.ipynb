{
 "cells": [
  {
   "cell_type": "markdown",
   "id": "0",
   "metadata": {},
   "source": [
    "## Function and Tangent Residual Diagnostics\n",
    "\n",
    "This notebook investigates the accuracy of **adaptive polynomial fitting** vs. **finite difference stencils** for numerical derivative estimation. We visualize the behavior of each method by comparing how well their computed tangents match the target function in a neighborhood around a chosen point.\n",
    "\n",
    "---\n",
    "\n",
    "### Plot Overview\n",
    "\n",
    "The plot has up to **four vertically stacked panels**, depending on the `show_ratio_panel` setting:\n",
    "\n",
    "1. **Function with Tangents**\n",
    "   Shows the true function and its tangent lines estimated by:\n",
    "   - Adaptive polynomial fit (solid line)\n",
    "   - Finite difference method (dotted line)\n",
    "\n",
    "2. **Residuals**\n",
    "   Displays the raw difference:\n",
    "   $f(x) - T(x)$\n",
    "   where $ T(x) $ is the tangent approximation.\n",
    "   This diagnoses where and how the tangent diverges from the function.\n",
    "\n",
    "3. **Fractional Residuals**\n",
    "   Normalized error:\n",
    "   $\\frac{f(x) - T(x)}{f(x)}$\n",
    "   Highlights relative error across the domain, especially where $f(x)$ is small.\n",
    "\n",
    "4. **Residual Ratio (optional)**\n",
    "   If `show_ratio_panel=True`, the plot includes a fourth panel:\n",
    "   $\\frac{\\text{adaptive}}{\\text{finite}} - 1$\n",
    "   - Values near zero indicate similar performance\n",
    "   - Negative values show better performance by the **adaptive method**\n",
    "\n",
    "---\n",
    "\n",
    "### Takeaways\n",
    "\n",
    "- This diagnostic view allows you to **visually evaluate the quality** of numerical derivative approximations.\n",
    "- Differences between the tangent lines and residuals highlight where each method performs better or worse.\n",
    "- **Adaptive methods** typically incur more computational cost but offer **superior local accuracy**, especially in noisy or nonlinear regions.\n",
    "- You can reuse this framework to analyze **higher-order derivatives** or more complex functions.\n"
   ]
  },
  {
   "cell_type": "code",
   "execution_count": null,
   "id": "1",
   "metadata": {},
   "outputs": [],
   "source": [
    "import warnings\n",
    "\n",
    "from derivkit.plotutils import plot_kit as pk\n",
    "from derivkit.plotutils.plot_style import apply_plot_style\n",
    "\n",
    "from functions_dict import test_functions_residuals as test_functions\n",
    "\n",
    "# Apply consistent style\n",
    "apply_plot_style()"
   ]
  },
  {
   "cell_type": "code",
   "execution_count": null,
   "id": "2",
   "metadata": {},
   "outputs": [],
   "source": [
    "# Suppressing warnings to keep notebook output clean for version control (e.g., Git).\n",
    "# Comment out the line below if you want to see the warnings for debugging.\n",
    "warnings.filterwarnings(\"ignore\")"
   ]
  },
  {
   "cell_type": "markdown",
   "id": "3",
   "metadata": {},
   "source": [
    "## Selecting a Test Function\n",
    "\n",
    "The available test functions are stored in a list of dictionaries called `test_functions`, where each entry contains keys like `\"name\"`, `\"func\"`, and `\"label\"`.\n",
    "\n",
    "To explore what's available, you can display all function names and labels like this:\n"
   ]
  },
  {
   "cell_type": "code",
   "execution_count": null,
   "id": "4",
   "metadata": {},
   "outputs": [],
   "source": [
    "# Uncomment the following lines to see available functions\n",
    "# for f in test_functions:\n",
    "#    print(f\"Name: {f['name']}, Label: {f['label']}\")\n"
   ]
  },
  {
   "cell_type": "code",
   "execution_count": null,
   "id": "5",
   "metadata": {},
   "outputs": [],
   "source": [
    "# Choose function by index or name\n",
    "selected = next(f for f in test_functions if f[\"name\"] == \"x_cubed\")\n",
    "x0 = 0.5\n",
    "\n",
    "# Call the plotting function\n",
    "pk.plot_function_with_residuals(\n",
    "    selected[\"func\"],\n",
    "    central_value=x0,\n",
    "    derivative_order=1,\n",
    "    dx=0.4,\n",
    "    title=rf\"{selected['label']}: adaptive vs finite @ $x = {x0}$\",\n",
    "    show_ratio_panel=False,\n",
    "    function_name=test_functions[0][\"name\"],\n",
    ")"
   ]
  }
 ],
 "metadata": {
  "kernelspec": {
   "display_name": "Python 3",
   "language": "python",
   "name": "python3"
  },
  "language_info": {
   "codemirror_mode": {
    "name": "ipython",
    "version": 2
   },
   "file_extension": ".py",
   "mimetype": "text/x-python",
   "name": "python",
   "nbconvert_exporter": "python",
   "pygments_lexer": "ipython2",
   "version": "2.7.6"
  }
 },
 "nbformat": 4,
 "nbformat_minor": 5
}
