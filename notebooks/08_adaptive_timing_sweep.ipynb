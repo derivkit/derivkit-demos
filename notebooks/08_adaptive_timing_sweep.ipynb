{
 "cells": [
  {
   "cell_type": "markdown",
   "id": "0",
   "metadata": {},
   "source": [
    "## Timing Benchmarks: Adaptive vs. Finite Derivative Methods\n",
    "\n",
    "This section benchmarks the **runtime performance** of two numerical derivative estimation techniques:\n",
    "\n",
    "- **Adaptive Polynomial Fitting**\n",
    "- **Finite Difference Method**\n",
    "\n",
    "The goal is to understand how computational cost scales with derivative order and method-specific parameters.\n",
    "\n",
    "---\n",
    "\n",
    "### 1. `benchmark_derivative_timing_vs_order`\n",
    "\n",
    "This function evaluates the total execution time required to compute derivatives of a given function using both **adaptive** and **finite difference** methods across a range of derivative orders.\n",
    "\n",
    "Each method is timed individually for a given order:\n",
    "\n",
    "Plot Interpretation:\n",
    "- The x-axis shows the derivative order (e.g. 1st, 2nd, 3rd).\n",
    "- The y-axis shows the total evaluation time in seconds.\n",
    "- You can compare how much slower the adaptive method is for higher-order derivatives.\n",
    "\n",
    "---\n",
    "\n",
    "### 2. `plot_adaptive_timing_sweeps`\n",
    "\n",
    "This function benchmarks the adaptive method only, and investigates how its runtime changes as you sweep two of its internal parameters:\n",
    "- `min_used_points`: The number of function evaluations used in the polynomial fit\n",
    "- `fit_tolerance`: The RMS error threshold used to accept a candidate polynomial\n",
    "\n",
    "The function runs two separate benchmark loops:\n",
    "- First, it varies `min_used_points` while keeping `fit_tolerance` fixed.\n",
    "- Then, it varies `fit_tolerance` while keeping `min_used_points` fixed.\n",
    "\n",
    "Plot Interpretation:\n",
    "- Left panel: Timing vs min_used_points (larger values = more data used for fitting)\n",
    "- Right panel: Timing vs fit_tolerance (smaller values = stricter fits, more iterations)\n",
    "- Results are shown for each derivative order with different line colors\n",
    "- The log-scaled $x$-axis in the right plot emphasizes sensitivity to small tolerances\n",
    "\n",
    "---\n",
    "\n",
    "**Notes**\n",
    "Both methods use `time.perf_counter()` to measure high-resolution wall-clock time.\n",
    "Artificial delays (`sleep_time`) are used to simulate slow function evaluations and highlight overhead\n",
    "These plots help understand the trade-off between speed and flexibility in adaptive differentiation.\n"
   ]
  },
  {
   "cell_type": "code",
   "execution_count": null,
   "id": "1",
   "metadata": {},
   "outputs": [],
   "source": [
    "import warnings\n",
    "\n",
    "import numpy as np\n",
    "\n",
    "from derivkit.plotutils.plot_style import apply_plot_style\n",
    "from derivkit.plotutils import plot_kit as pk\n",
    "\n",
    "# Apply consistent style\n",
    "apply_plot_style()"
   ]
  },
  {
   "cell_type": "code",
   "execution_count": null,
   "id": "2",
   "metadata": {},
   "outputs": [],
   "source": [
    "# Suppressing warnings to keep notebook output clean for version control (e.g., Git).\n",
    "# Comment out the line below if you want to see the warnings for debugging.\n",
    "warnings.filterwarnings(\"ignore\")"
   ]
  },
  {
   "cell_type": "code",
   "execution_count": null,
   "id": "3",
   "metadata": {},
   "outputs": [],
   "source": [
    "def function(x):\n",
    "    return np.sin(x**2) * np.exp(-(x**2)) + np.log1p(x**2)\n",
    "\n",
    "\n",
    "central_value = 0.0005\n",
    "\n",
    "# Orders to test\n",
    "orders = [1, 2, 3, 4]\n",
    "\n",
    "pk.benchmark_derivative_timing_vs_order(function, central_value, orders)"
   ]
  },
  {
   "cell_type": "code",
   "execution_count": null,
   "id": "4",
   "metadata": {},
   "outputs": [],
   "source": [
    "pk.plot_adaptive_timing_sweeps()"
   ]
  },
  {
   "cell_type": "code",
   "execution_count": null,
   "id": "5",
   "metadata": {},
   "outputs": [],
   "source": [
    "# Multiprocessing for intensive computation\n",
    "sleep_time = 0.1  # 100ms comptutation time\n",
    "pk.plot_adaptive_timing_sweeps(sleep_time=sleep_time)\n",
    "pk.plot_adaptive_timing_sweeps(sleep_time=sleep_time, n_workers=4)"
   ]
  }
 ],
 "metadata": {
  "kernelspec": {
   "display_name": "Python 3 (ipykernel)",
   "language": "python",
   "name": "python3"
  },
  "language_info": {
   "codemirror_mode": {
    "name": "ipython",
    "version": 3
   },
   "file_extension": ".py",
   "mimetype": "text/x-python",
   "name": "python",
   "nbconvert_exporter": "python",
   "pygments_lexer": "ipython3",
   "version": "3.12.3"
  }
 },
 "nbformat": 4,
 "nbformat_minor": 5
}
