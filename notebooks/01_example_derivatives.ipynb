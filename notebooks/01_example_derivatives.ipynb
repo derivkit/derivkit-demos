{
 "cells": [
  {
   "cell_type": "markdown",
   "id": "0",
   "metadata": {},
   "source": [
    "# Derivative Estimation Demo\n",
    "\n",
    "In this example, we compute and compare the first, second, and third derivatives of several smooth functions at a fixed point $x_0 = 0.5$.\n",
    "\n",
    "We compare three methods:\n",
    "- **Finite difference (stencil)** method\n",
    "- **Adaptive polynomial fitting**\n",
    "- **Reference** result from `numdifftools`\n",
    "\n",
    "This provides a simple sanity check to validate the accuracy and consistency of our implementation."
   ]
  },
  {
   "cell_type": "code",
   "execution_count": null,
   "id": "1",
   "metadata": {},
   "outputs": [],
   "source": [
    "import numdifftools as nd\n",
    "\n",
    "from derivkit.derivative_kit import DerivativeKit\n",
    "from functions_dict import test_functions"
   ]
  },
  {
   "cell_type": "markdown",
   "id": "2",
   "metadata": {},
   "source": [
    "Calculating derivatives using `DerivativeKit` is straightforward.\n",
    "\n",
    "You can specify the function, the point at which to evaluate the derivative, and the order of the derivative you want to compute.\n",
    "\n",
    " The kit will handle both finite difference and adaptive polynomial fitting methods."
   ]
  },
  {
   "cell_type": "code",
   "execution_count": null,
   "id": "3",
   "metadata": {},
   "outputs": [],
   "source": [
    "# Define the function\n",
    "def f(x):\n",
    "    return x**2\n",
    "\n",
    "\n",
    "order = 2  # derivative order to compute\n",
    "x0 = 0.5  # evaluation point\n",
    "true_val = 2.0  # true value of the 2nd derivative of f(x) = x² at x = 0.5\n",
    "\n",
    "# Initialize DerivativeKit\n",
    "dk = DerivativeKit(f, x0)\n",
    "\n",
    "# Compute estimates\n",
    "finite_val = dk.finite.compute(derivative_order=order)\n",
    "adaptive_val = dk.adaptive.compute(derivative_order=order)\n",
    "nd_val = nd.Derivative(f, n=order)(x0)\n",
    "\n",
    "# Print results\n",
    "print(f\"Evaluating the derivative order {order} of f(x) = x² at x = {x0}\\n\")\n",
    "print(\"--------------------------------\")\n",
    "print(f\"True value: {true_val:.6f}\")\n",
    "print(f\"[Finite] → {finite_val:.6f} (abs err: {abs(finite_val - true_val):.1e})\")\n",
    "print(f\"[Adaptive] → {adaptive_val:.6f} (abs err: {abs(adaptive_val - true_val):.1e})\")\n",
    "print(f\"[NumDiff] → {nd_val:.6f}\")"
   ]
  },
  {
   "cell_type": "markdown",
   "id": "4",
   "metadata": {},
   "source": [
    "## Derivative Estimation Benchmark: Test Functions\n",
    "\n",
    "This notebook demonstrates the accuracy and behavior of different derivative estimation methods using a curated set of smooth, analytic functions. These functions are chosen because their true derivatives (up to third order) are known and easily computable, making them ideal for benchmarking.\n",
    "\n",
    "We test the following methods:\n",
    "- **Finite difference stencil** (central difference)\n",
    "- **Adaptive polynomial fitting** (residual-based pruning)\n",
    "- **`numdifftools`** as a reference numerical tool\n",
    "\n",
    "Each method is compared against the **analytic reference derivative** at a fixed evaluation point \\( x_0 = 0.5 \\). We compute the first, second, and third derivatives.\n",
    "\n",
    "#### Test Functions\n",
    "\n",
    "| Name            | Expression                         |\n",
    "|-----------------|-------------------------------------|\n",
    "| `x_squared`     | \\( f(x) = x^2 \\)                    |\n",
    "| `cubic_poly`    | \\( f(x) = x^3 - 2x + 1 \\)           |\n",
    "| `sin_x`         | \\( f(x) = \\sin(x) \\)                |\n",
    "| `cos_x`         | \\( f(x) = \\cos(x) \\)                |\n",
    "| `exp_x`         | \\( f(x) = e^x \\)                    |\n",
    "| `exp_neg_x^2`   | \\( f(x) = e^{-x^2} \\)               |\n",
    "| `tanh_x`        | \\( f(x) = \\tanh(x) \\)               |\n",
    "| `log1p_x`       | \\( f(x) = \\log(1 + x) \\)            |\n",
    "\n",
    "The notebook loops over all functions and computes derivatives using each method, displaying results alongside reference values.\n",
    "\n",
    "---\n",
    "\n",
    "**Note:**\n",
    "If you notice small mismatches at the 4th or 5th decimal place, that's expected and not a problem. The adaptive method is designed for robustness—not perfect accuracy on smooth functions, but resilience when the data is noisy or imperfect. That’s where it truly shines. See the other notebooks in this directory for demonstrations of its performance under noisy conditions.\n"
   ]
  },
  {
   "cell_type": "code",
   "execution_count": null,
   "id": "5",
   "metadata": {},
   "outputs": [],
   "source": [
    "# Setup\n",
    "x0 = 0.5\n",
    "orders = [1, 2, 3]\n",
    "\n",
    "# Loop over test functions\n",
    "for name, entry in test_functions.items():\n",
    "    f = entry[\"func\"]\n",
    "    print(f\"\\nFunction: {name} at x = {x0}\")\n",
    "    for n in orders:\n",
    "        ref_val = entry[\"reference\"][n](x0)\n",
    "\n",
    "        kit = DerivativeKit(f, x0)\n",
    "        finite_val = kit.finite.compute(derivative_order=n)\n",
    "        adaptive_val = kit.adaptive.compute(derivative_order=n)\n",
    "        nd_val = nd.Derivative(f, n=n)(x0)\n",
    "\n",
    "        print(f\" Order {n} Derivative:\")\n",
    "        print(f\" Reference: {ref_val:.6f}\")\n",
    "        print(f\" Finite: {finite_val:.6f}\")\n",
    "        print(f\" Adaptive: {adaptive_val:.6f}\")\n",
    "        print(f\" NumDiff: {nd_val:.6f}\")"
   ]
  },
  {
   "cell_type": "code",
   "execution_count": null,
   "id": "6",
   "metadata": {},
   "outputs": [],
   "source": []
  }
 ],
 "metadata": {
  "kernelspec": {
   "display_name": "Python 3",
   "language": "python",
   "name": "python3"
  },
  "language_info": {
   "codemirror_mode": {
    "name": "ipython",
    "version": 2
   },
   "file_extension": ".py",
   "mimetype": "text/x-python",
   "name": "python",
   "nbconvert_exporter": "python",
   "pygments_lexer": "ipython2",
   "version": "2.7.6"
  }
 },
 "nbformat": 4,
 "nbformat_minor": 5
}
